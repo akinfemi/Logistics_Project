{
 "cells": [
  {
   "cell_type": "code",
   "execution_count": 2,
   "metadata": {
    "collapsed": true
   },
   "outputs": [],
   "source": [
    "from gurobipy import *\n",
    "import pandas as pd\n",
    "import numpy as np\n",
    "from pandas import DataFrame"
   ]
  },
  {
   "cell_type": "code",
   "execution_count": 3,
   "metadata": {
    "collapsed": false
   },
   "outputs": [
    {
     "name": "stdout",
     "output_type": "stream",
     "text": [
      "Optimize a model with 10 rows, 25 columns and 50 nonzeros\n",
      "Model has 200 quadratic objective terms\n",
      "Coefficient statistics:\n",
      "  Matrix range    [1e+00, 1e+00]\n",
      "  Objective range [0e+00, 0e+00]\n",
      "  Bounds range    [1e+00, 1e+00]\n",
      "  RHS range       [1e+00, 1e+00]\n",
      "Found heuristic solution: objective 2658\n",
      "Modified 25 Q diagonals\n",
      "Presolve time: 0.01s\n",
      "Presolved: 10 rows, 25 columns, 50 nonzeros\n",
      "Presolved model has 225 quadratic objective terms\n",
      "Variable types: 0 continuous, 25 integer (25 binary)\n",
      "\n",
      "Root relaxation: objective -2.631758e+03, 36 iterations, 0.00 seconds\n",
      "\n",
      "    Nodes    |    Current Node    |     Objective Bounds      |     Work\n",
      " Expl Unexpl |  Obj  Depth IntInf | Incumbent    BestBd   Gap | It/Node Time\n",
      "\n",
      "     0     0 -2631.7580    0   25 2658.00000 -2631.7580   199%     -    0s\n",
      "H    0     0                    2516.0000000 -2631.7580   205%     -    0s\n",
      "H    0     0                    2274.0000000 -2631.7580   216%     -    0s\n",
      "     0     2 -2631.7580    0   25 2274.00000 -2631.7580   216%     -    0s\n",
      "\n",
      "Explored 119 nodes (430 simplex iterations) in 0.05 seconds\n",
      "Thread count was 4 (of 4 available processors)\n",
      "\n",
      "Optimal solution found (tolerance 1.00e-04)\n",
      "Best objective 2.274000000000e+03, best bound 2.274000000000e+03, gap 0.0%\n",
      "x1_2 1.0\n",
      "x2_5 1.0\n",
      "x3_4 1.0\n",
      "x4_3 1.0\n",
      "x5_1 1.0\n",
      "Objective:  2274.0\n"
     ]
    }
   ],
   "source": [
    "def mySorter(tuple1,tuple2):\n",
    "    n_tup1 = (tuple1[0],tuple2[0])\n",
    "    n_tup2 = (tuple1[1],tuple2[1])\n",
    "    return [n_tup1,n_tup2]\n",
    "\n",
    "def var2name(arr):\n",
    "    l=[]\n",
    "    for val in DataFrame(arr).unstack():\n",
    "        l.append(val.varName)\n",
    "    name_array = np.array(l)\n",
    "    name_array = name_array.reshape(arr.shape)\n",
    "    return np.transpose(name_array)\n",
    "\n",
    "try:\n",
    "    \n",
    "    m = Model(\"Part_2\")\n",
    "    \n",
    "    #Read data\n",
    "    flows = np.array(pd.read_csv('~/FacilityDesign_SameArea/dep5_inst1/flows.txt', header=None))\n",
    "    unit_cost = np.array(pd.read_csv('~/FacilityDesign_SameArea/dep5_inst1/unit_cost.txt', header=None))\n",
    "    \n",
    "    #Initialize values\n",
    "    x = flows.shape #get the shape of the array (e.g 3,3 array)\n",
    "    numDepts=x[0]\n",
    "    numLocs = x[1]\n",
    "    \n",
    "    #Create variables\n",
    "    obj_vars = []    #objective function variables\n",
    "    obj_expr = 0\n",
    "    \n",
    "    for i in range(1,numDepts+1):\n",
    "        \n",
    "        for j in range(1,numLocs+1):\n",
    "            v = \"x\"+str(i)+\"_\"+str(j)\n",
    "            v = m.addVar(vtype=GRB.BINARY, name=v)\n",
    "            obj_vars.append(v)\n",
    "            \n",
    "    #Update variables\n",
    "    m.update()\n",
    "    \n",
    "    obj_arr = np.array(obj_vars)\n",
    "    obj_arr = obj_arr.reshape(flows.shape)\n",
    "    \n",
    "    for k in range(len(obj_arr)):\n",
    "        for l in range(len(obj_arr)):\n",
    "            temp = obj_arr\n",
    "            temp = temp[k+1:,]\n",
    "            temp = np.delete(temp,(l),axis=1)\n",
    "            for var in DataFrame(temp).unstack():\n",
    "                tup1 = (k,l)\n",
    "                tup2 = np.where(var2name(obj_arr)==var.varName)\n",
    "                flow_tup,cost_tup = mySorter(tup1,tup2)\n",
    "                obj_expr += obj_arr[k,l]*var*flows[flow_tup]*unit_cost[cost_tup]\n",
    "                \n",
    "    #Set Objective\n",
    "    m.setObjective(obj_expr,GRB.MINIMIZE)\n",
    "            \n",
    "    #Constraints\n",
    "    for n in range(flows.shape[0]):\n",
    "        m.addConstr(np.sum(obj_arr[n])==1,\"Dept\"+str(n+1))\n",
    "        m.addConstr(np.sum(obj_arr[:,n])==1,\"Loc\"+str(n+1))\n",
    "    \n",
    "    #Optimize\n",
    "    m.optimize()\n",
    "    \n",
    "    for value in m.getVars():\n",
    "        if value.x != 0:\n",
    "            print value.varName, value.x\n",
    "    \n",
    "    print \"Objective: \", m.objVal\n",
    "    \n",
    "except GurobiError:\n",
    "    print 'Error. Solution Not Found'"
   ]
  },
  {
   "cell_type": "code",
   "execution_count": 5,
   "metadata": {
    "collapsed": false
   },
   "outputs": [
    {
     "data": {
      "text/plain": [
       "<gurobi.QuadExpr: 0.0 + [ [ 5.] x1_1 * x2_2 + [ 4.] x1_1 * x3_2 + [ 5.] x1_1 * x2_3 + [ 4.] x1_1 * x3_3 + [ 5.] x1_2 * x2_1 + [ 4.] x1_2 * x3_1 + [ 10.] x1_2 * x2_3 + [ 8.] x1_2 * x3_3 + [ 5.] x1_3 * x2_1 + [ 4.] x1_3 * x3_1 + [ 10.] x1_3 * x2_2 + [ 8.] x1_3 * x3_2 + [ 6.] x2_1 * x3_2 + [ 6.] x2_1 * x3_3 + [ 6.] x2_2 * x3_1 + [ 12.] x2_2 * x3_3 + [ 6.] x2_3 * x3_1 + [ 12.] x2_3 * x3_2 ]>"
      ]
     },
     "execution_count": 5,
     "metadata": {},
     "output_type": "execute_result"
    }
   ],
   "source": [
    "obj_expr"
   ]
  },
  {
   "cell_type": "code",
   "execution_count": 177,
   "metadata": {
    "collapsed": false
   },
   "outputs": [
    {
     "data": {
      "text/plain": [
       "(array([1]), array([2]))"
      ]
     },
     "execution_count": 177,
     "metadata": {},
     "output_type": "execute_result"
    }
   ],
   "source": [
    "np.where(var2name(obj_arr)==var.varName)"
   ]
  },
  {
   "cell_type": "code",
   "execution_count": 192,
   "metadata": {
    "collapsed": false
   },
   "outputs": [],
   "source": [
    "def var2name(arr):\n",
    "    l=[]\n",
    "    for val in DataFrame(arr).unstack():\n",
    "        l.append(val.varName)\n",
    "    name_array = np.array(l)\n",
    "    name_array = name_array.reshape(arr.shape)\n",
    "    return np.transpose(name_array)"
   ]
  },
  {
   "cell_type": "code",
   "execution_count": 193,
   "metadata": {
    "collapsed": false
   },
   "outputs": [
    {
     "data": {
      "text/plain": [
       "array([['x1_1', 'x1_2', 'x1_3'],\n",
       "       ['x2_1', 'x2_2', 'x2_3'],\n",
       "       ['x3_1', 'x3_2', 'x3_3']], \n",
       "      dtype='|S4')"
      ]
     },
     "execution_count": 193,
     "metadata": {},
     "output_type": "execute_result"
    }
   ],
   "source": [
    "var2name(obj_arr)"
   ]
  },
  {
   "cell_type": "code",
   "execution_count": null,
   "metadata": {
    "collapsed": true
   },
   "outputs": [],
   "source": []
  }
 ],
 "metadata": {
  "kernelspec": {
   "display_name": "Python 2",
   "language": "python",
   "name": "python2"
  },
  "language_info": {
   "codemirror_mode": {
    "name": "ipython",
    "version": 2
   },
   "file_extension": ".py",
   "mimetype": "text/x-python",
   "name": "python",
   "nbconvert_exporter": "python",
   "pygments_lexer": "ipython2",
   "version": "2.7.11"
  }
 },
 "nbformat": 4,
 "nbformat_minor": 0
}
