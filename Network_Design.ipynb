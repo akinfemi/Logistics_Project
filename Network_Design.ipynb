{
 "cells": [
  {
   "cell_type": "code",
   "execution_count": 4,
   "metadata": {
    "collapsed": true
   },
   "outputs": [],
   "source": [
    "# Group Members\n",
    "# Akinfemi Akin-Aluko\n",
    "# Satbir Gill\n",
    "# Chandana Prakash\n",
    "\n",
    "#Notation\n",
    "#Xij : unit cost of transportation of customer i to dc j\n",
    "\n",
    "from gurobipy import *\n",
    "import numpy as np\n",
    "import pandas as pd"
   ]
  },
  {
   "cell_type": "code",
   "execution_count": null,
   "metadata": {
    "collapsed": false
   },
   "outputs": [],
   "source": [
    "try:\n",
    "\n",
    "    #Create a model\n",
    "    m = Model(\"m\")\n",
    "    \n",
    "    #Data (Provided)\n",
    "    utc_values = np.array(pd.read_csv('~/NetworkDesign/dc60_cust6000_inst1/unit_tran_cost.txt', header=None))\n",
    "    dc_cost_values = np.array(pd.read_csv('~/NetworkDesign/dc60_cust6000_inst1/dc_cost.txt', header=None))\n",
    "    dc_cap_values = np.array(pd.read_csv('~/NetworkDesign/dc60_cust6000_inst1/dc_cap.txt', header=None))\n",
    "    demand_values = np.array(pd.read_csv('~/NetworkDesign/dc60_cust6000_inst1/demand.txt', header=None))\n",
    "    \n",
    "    #Initialize values\n",
    "    x = utc_values.shape\n",
    "    numCustomers=x[0]\n",
    "    numDCs = x[1]\n",
    "    \n",
    "    #Create variables\n",
    "    utc_vars = []    #unit transport cost variables\n",
    "    dc_cost_vars = []     #distribution centers fixed cost variables\n",
    "    \n",
    "    \n",
    "    for i in range(1,numCustomers+1):\n",
    "        \n",
    "        for j in range(1,numDCs+1):\n",
    "            v = \"x\"+str(i)+\"_\"+str(j)\n",
    "            v = m.addVar(vtype=GRB.INTEGER, name=v)\n",
    "            utc_vars.append(v)\n",
    "            \n",
    "            if(i==1):\n",
    "                p = \"y\"+str(j)\n",
    "                p = m.addVar(vtype=GRB.BINARY, name=p)\n",
    "                dc_cost_vars.append(p)\n",
    "    #Update variables\n",
    "    m.update()\n",
    "    \n",
    "    #Shape arrays to match data shape\n",
    "    dc_cost_vars = np.array(dc_cost_vars)\n",
    "    dc_cost_vars = dc_cost_vars.reshape(numDCs,1)\n",
    "    dc_cap_vars = dc_cost_vars\n",
    "    utc_vars = np.array(utc_vars)\n",
    "    utc_vars = utc_vars.reshape(numCustomers,numDCs)\n",
    "    \n",
    "     \n",
    "    #Objective Function\n",
    "    m.setObjective(np.sum(utc_vars*utc_values)+np.sum(dc_cost_vars*dc_cost_values), GRB.MINIMIZE)\n",
    "    \n",
    "    #Constraints\n",
    "    #Customer Demand\n",
    "    i=-1\n",
    "    for v in demand_values:\n",
    "        i+=1\n",
    "        m.addConstr(np.sum(utc_vars[i])==demand_values[i],\"DemandConstr\"+str(i+1))\n",
    "    \n",
    "    #Distribution Center Capacity Constraints\n",
    "    j=-1\n",
    "    dc_cap = dc_cap_values*dc_cap_vars\n",
    "    for c in dc_cap:\n",
    "        j+=1\n",
    "        m.addConstr(np.sum(utc_vars[:,j])<=np.sum(dc_cap[j]), \"CapacityConstr\"+str(j+1))\n",
    "    \n",
    "    #Optimize model\n",
    "    m.optimize()\n",
    " \n",
    "#     for val in m.getVars():\n",
    "#         if val.x != 0:         #Not to return zero variables\n",
    "#             print val.varName, val.x\n",
    "        \n",
    "    print \"Objective Value: \", m.objVal\n",
    "    \n",
    "    \n",
    "except GurobiError:\n",
    "    print 'Error reported. Solution not found'"
   ]
  },
  {
   "cell_type": "code",
   "execution_count": 94,
   "metadata": {
    "collapsed": false
   },
   "outputs": [
    {
     "name": "stdout",
     "output_type": "stream",
     "text": [
      "<gurobi.Constr DemandConstr983>\n"
     ]
    }
   ],
   "source": [
    "print m.getConstrByName(\"DemandConstr983\")"
   ]
  },
  {
   "cell_type": "code",
   "execution_count": 81,
   "metadata": {
    "collapsed": false
   },
   "outputs": [
    {
     "data": {
      "text/plain": [
       "<gurobi.Constr CapacityConstr20>"
      ]
     },
     "execution_count": 81,
     "metadata": {},
     "output_type": "execute_result"
    }
   ],
   "source": [
    "cc[2019]"
   ]
  },
  {
   "cell_type": "code",
   "execution_count": 126,
   "metadata": {
    "collapsed": false
   },
   "outputs": [
    {
     "name": "stdout",
     "output_type": "stream",
     "text": [
      "<gurobi.Constr *Awaiting Model Update*>\n",
      "<gurobi.Constr *Awaiting Model Update*>\n",
      "<gurobi.Constr *Awaiting Model Update*>\n",
      "<gurobi.Constr *Awaiting Model Update*>\n",
      "<gurobi.Constr *Awaiting Model Update*>\n",
      "<gurobi.Constr *Awaiting Model Update*>\n",
      "<gurobi.Constr *Awaiting Model Update*>\n",
      "<gurobi.Constr *Awaiting Model Update*>\n",
      "<gurobi.Constr *Awaiting Model Update*>\n",
      "<gurobi.Constr *Awaiting Model Update*>\n",
      "<gurobi.Constr *Awaiting Model Update*>\n",
      "<gurobi.Constr *Awaiting Model Update*>\n",
      "<gurobi.Constr *Awaiting Model Update*>\n",
      "<gurobi.Constr *Awaiting Model Update*>\n",
      "<gurobi.Constr *Awaiting Model Update*>\n",
      "<gurobi.Constr *Awaiting Model Update*>\n",
      "<gurobi.Constr *Awaiting Model Update*>\n",
      "<gurobi.Constr *Awaiting Model Update*>\n",
      "<gurobi.Constr *Awaiting Model Update*>\n",
      "<gurobi.Constr *Awaiting Model Update*>\n"
     ]
    }
   ],
   "source": [
    "j=-1\n",
    "dc_cap = dc_cap_values*dc_cap_vars\n",
    "for c in dc_cap:\n",
    "    j+=1\n",
    "    print m.addConstr(np.sum(utc_vars[:,j])<=np.sum(dc_cap[j]), \"CapacityConstr\"+str(j+1))"
   ]
  },
  {
   "cell_type": "code",
   "execution_count": 128,
   "metadata": {
    "collapsed": false
   },
   "outputs": [
    {
     "data": {
      "text/plain": [
       "<gurobi.LinExpr: 3234.0 y20>"
      ]
     },
     "execution_count": 128,
     "metadata": {},
     "output_type": "execute_result"
    }
   ],
   "source": [
    "np.sum(dc_cap[j])"
   ]
  },
  {
   "cell_type": "code",
   "execution_count": 86,
   "metadata": {
    "collapsed": false
   },
   "outputs": [
    {
     "data": {
      "text/plain": [
       "array([3020])"
      ]
     },
     "execution_count": 86,
     "metadata": {},
     "output_type": "execute_result"
    }
   ],
   "source": []
  },
  {
   "cell_type": "code",
   "execution_count": null,
   "metadata": {
    "collapsed": false
   },
   "outputs": [],
   "source": []
  },
  {
   "cell_type": "code",
   "execution_count": null,
   "metadata": {
    "collapsed": false
   },
   "outputs": [],
   "source": []
  },
  {
   "cell_type": "code",
   "execution_count": null,
   "metadata": {
    "collapsed": true
   },
   "outputs": [],
   "source": []
  }
 ],
 "metadata": {
  "kernelspec": {
   "display_name": "Python 2",
   "language": "python",
   "name": "python2"
  },
  "language_info": {
   "codemirror_mode": {
    "name": "ipython",
    "version": 2
   },
   "file_extension": ".py",
   "mimetype": "text/x-python",
   "name": "python",
   "nbconvert_exporter": "python",
   "pygments_lexer": "ipython2",
   "version": "2.7.11"
  }
 },
 "nbformat": 4,
 "nbformat_minor": 0
}
