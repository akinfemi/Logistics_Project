{
 "cells": [
  {
   "cell_type": "code",
   "execution_count": 6,
   "metadata": {
    "collapsed": true
   },
   "outputs": [],
   "source": [
    "from gurobipy import *\n",
    "import numpy as np\n",
    "import pandas as pd\n",
    "from pandas import DataFrame\n",
    "import csv"
   ]
  },
  {
   "cell_type": "code",
   "execution_count": 8,
   "metadata": {
    "collapsed": false
   },
   "outputs": [
    {
     "name": "stdout",
     "output_type": "stream",
     "text": [
      "Optimize a model with 5050 rows, 250050 columns and 500000 nonzeros\n",
      "Coefficient statistics:\n",
      "  Matrix range    [1e+00, 1e+00]\n",
      "  Objective range [1e+00, 9e+04]\n",
      "  Bounds range    [1e+00, 1e+00]\n",
      "  RHS range       [2e+01, 3e+03]\n",
      "Found heuristic solution: objective 8.05875e+06\n",
      "Presolve removed 0 rows and 50 columns\n",
      "Presolve time: 0.64s\n",
      "Presolved: 5050 rows, 250000 columns, 500000 nonzeros\n",
      "Variable types: 0 continuous, 250000 integer (0 binary)\n",
      "\n",
      "Root relaxation: objective 1.669969e+06, 9226 iterations, 2.19 seconds\n",
      "\n",
      "    Nodes    |    Current Node    |     Objective Bounds      |     Work\n",
      " Expl Unexpl |  Obj  Depth IntInf | Incumbent    BestBd   Gap | It/Node Time\n",
      "\n",
      "*    0     0               0    1669969.0000 1669969.00  0.00%     -    2s\n",
      "\n",
      "Explored 0 nodes (9226 simplex iterations) in 2.98 seconds\n",
      "Thread count was 4 (of 4 available processors)\n",
      "\n",
      "Optimal solution found (tolerance 1.00e-04)\n",
      "Best objective 1.669969000000e+06, best bound 1.669969000000e+06, gap 0.0%\n",
      "Objective Value:  1669969.0\n"
     ]
    },
    {
     "name": "stderr",
     "output_type": "stream",
     "text": [
      "/home/akinfemi/anaconda2/lib/python2.7/site-packages/ipykernel/__main__.py:53: FutureWarning: comparison to `None` will result in an elementwise object comparison in the future.\n"
     ]
    }
   ],
   "source": [
    "try:\n",
    "\n",
    "    #Create a model\n",
    "    m = Model(\"Project\")\n",
    "\n",
    "     \n",
    "    #Data (Provided)\n",
    "    utc_values = np.array(pd.read_csv('~/NetworkDesign/dc60_cust6000_inst1/unit_tran_cost.txt', header=None))\n",
    "    dc_cost_values = np.array(pd.read_csv('~/NetworkDesign/dc60_cust6000_inst1/dc_cost.txt', header=None))\n",
    "    dc_cap_values = np.array(pd.read_csv('~/NetworkDesign/dc60_cust6000_inst1/dc_cap.txt', header=None))\n",
    "    demand_values = np.array(pd.read_csv('~/NetworkDesign/dc60_cust6000_inst1/demand.txt', header=None))\n",
    "    \n",
    "    #Initialize values\n",
    "    x = utc_values.shape\n",
    "    numCustomers=x[0]\n",
    "    numDCs = x[1]\n",
    "    \n",
    "    #Create variables\n",
    "    utc_vars = []    #unit transport cost variables\n",
    "    dc_cost_vars = []     #distribution centers fixed cost variables\n",
    "    dc_cap_vars = []\n",
    "    \n",
    "    for i in range(1,numCustomers+1):\n",
    "        \n",
    "        for j in range(1,numDCs+1):\n",
    "            v = \"x\"+str(i)+\"_\"+str(j)\n",
    "            v = m.addVar(vtype=GRB.INTEGER, name=v)\n",
    "            utc_vars.append(v)\n",
    "            \n",
    "            if(i==1):\n",
    "                p = \"y\"+str(j)\n",
    "                p = m.addVar(vtype=GRB.BINARY, name=p)\n",
    "                dc_cost_vars.append(p)\n",
    "    #Update variables\n",
    "    m.update()\n",
    "    \n",
    "    #Shape arrays to match data shape\n",
    "    dc_cost_vars = np.array(dc_cost_vars)\n",
    "    dc_cost_vars = dc_cost_vars.reshape(numDCs,1)\n",
    "    utc_vars = np.array(utc_vars)\n",
    "    utc_vars = utc_vars.reshape(numCustomers,numDCs)\n",
    "    \n",
    "     \n",
    "    #Objective Function\n",
    "    m.setObjective(np.sum(utc_vars*utc_values)+np.sum(dc_cost_vars*dc_cost_values), GRB.MINIMIZE)\n",
    "    \n",
    "    #Constraints\n",
    "    #Customer Demand\n",
    "    i=-1\n",
    "    j=-1\n",
    "    for v in demand_values:\n",
    "        i+=1\n",
    "        m.addConstr(np.sum(utc_vars[i])==demand_values[i],\"DemandConstr\"+str(i+1))\n",
    "    \n",
    "    #Distribution Center Capacity Constraints\n",
    "    for c in dc_cap_values:\n",
    "        j+=1\n",
    "        m.addConstr(np.sum(utc_vars[:,j])<=dc_cap_values[j], \"CapacityConstr\"+str(j+1))\n",
    "    \n",
    "    #Optimize model\n",
    "#    m.optimize()\n",
    " \n",
    "#     for val in m.getVars():\n",
    "#         if val.x != 0:\n",
    "#             print val.varName, val.x\n",
    "        \n",
    "    print \"Objective Value: \", m.objVal\n",
    "    \n",
    "    \n",
    "except GurobiError:\n",
    "    print 'Error reported. Solution not found'"
   ]
  },
  {
   "cell_type": "code",
   "execution_count": 30,
   "metadata": {
    "collapsed": false
   },
   "outputs": [
    {
     "data": {
      "text/html": [
       "<div>\n",
       "<table border=\"1\" class=\"dataframe\">\n",
       "  <thead>\n",
       "    <tr style=\"text-align: right;\">\n",
       "      <th></th>\n",
       "      <th>Variables</th>\n",
       "      <th>Values</th>\n",
       "    </tr>\n",
       "  </thead>\n",
       "  <tbody>\n",
       "  </tbody>\n",
       "</table>\n",
       "</div>"
      ],
      "text/plain": [
       "Empty DataFrame\n",
       "Columns: [Variables, Values]\n",
       "Index: []"
      ]
     },
     "execution_count": 30,
     "metadata": {},
     "output_type": "execute_result"
    }
   ],
   "source": [
    "res_df\n"
   ]
  },
  {
   "cell_type": "code",
   "execution_count": 27,
   "metadata": {
    "collapsed": false
   },
   "outputs": [
    {
     "data": {
      "text/html": [
       "<div>\n",
       "<table border=\"1\" class=\"dataframe\">\n",
       "  <thead>\n",
       "    <tr style=\"text-align: right;\">\n",
       "      <th></th>\n",
       "      <th>Variables</th>\n",
       "      <th>Values</th>\n",
       "    </tr>\n",
       "  </thead>\n",
       "  <tbody>\n",
       "  </tbody>\n",
       "</table>\n",
       "</div>"
      ],
      "text/plain": [
       "Empty DataFrame\n",
       "Columns: [Variables, Values]\n",
       "Index: []"
      ]
     },
     "execution_count": 27,
     "metadata": {},
     "output_type": "execute_result"
    }
   ],
   "source": [
    "res_df.head()"
   ]
  },
  {
   "cell_type": "code",
   "execution_count": 24,
   "metadata": {
    "collapsed": false
   },
   "outputs": [
    {
     "data": {
      "text/plain": [
       "(20, 1)"
      ]
     },
     "execution_count": 24,
     "metadata": {},
     "output_type": "execute_result"
    }
   ],
   "source": [
    "dc_cap_values.shape"
   ]
  },
  {
   "cell_type": "code",
   "execution_count": 8,
   "metadata": {
    "collapsed": false
   },
   "outputs": [],
   "source": [
    "res = DataFrame(columns=[\"Variable\", \"Values\"])"
   ]
  },
  {
   "cell_type": "code",
   "execution_count": 11,
   "metadata": {
    "collapsed": false
   },
   "outputs": [],
   "source": [
    "res.loc[0] = [\"z\",1]"
   ]
  },
  {
   "cell_type": "code",
   "execution_count": 24,
   "metadata": {
    "collapsed": false
   },
   "outputs": [
    {
     "data": {
      "text/html": [
       "<div>\n",
       "<table border=\"1\" class=\"dataframe\">\n",
       "  <thead>\n",
       "    <tr style=\"text-align: right;\">\n",
       "      <th></th>\n",
       "      <th>Variable</th>\n",
       "      <th>Values</th>\n",
       "    </tr>\n",
       "  </thead>\n",
       "  <tbody>\n",
       "    <tr>\n",
       "      <th>0</th>\n",
       "      <td>z</td>\n",
       "      <td>1</td>\n",
       "    </tr>\n",
       "    <tr>\n",
       "      <th>1</th>\n",
       "      <td>y</td>\n",
       "      <td>2</td>\n",
       "    </tr>\n",
       "  </tbody>\n",
       "</table>\n",
       "</div>"
      ],
      "text/plain": [
       "  Variable Values\n",
       "0        z      1\n",
       "1        y      2"
      ]
     },
     "execution_count": 24,
     "metadata": {},
     "output_type": "execute_result"
    }
   ],
   "source": [
    "res.append(DataFrame([['y',2]],columns=['Variable','Values']),ignore_index=True)"
   ]
  },
  {
   "cell_type": "code",
   "execution_count": 21,
   "metadata": {
    "collapsed": false
   },
   "outputs": [
    {
     "data": {
      "text/html": [
       "<div>\n",
       "<table border=\"1\" class=\"dataframe\">\n",
       "  <thead>\n",
       "    <tr style=\"text-align: right;\">\n",
       "      <th></th>\n",
       "      <th>0</th>\n",
       "      <th>1</th>\n",
       "    </tr>\n",
       "  </thead>\n",
       "  <tbody>\n",
       "    <tr>\n",
       "      <th>0</th>\n",
       "      <td>y</td>\n",
       "      <td>2</td>\n",
       "    </tr>\n",
       "  </tbody>\n",
       "</table>\n",
       "</div>"
      ],
      "text/plain": [
       "   0  1\n",
       "0  y  2"
      ]
     },
     "execution_count": 21,
     "metadata": {},
     "output_type": "execute_result"
    }
   ],
   "source": [
    "DataFrame([[\"y\",2]])"
   ]
  },
  {
   "cell_type": "code",
   "execution_count": null,
   "metadata": {
    "collapsed": true
   },
   "outputs": [],
   "source": []
  }
 ],
 "metadata": {
  "kernelspec": {
   "display_name": "Python 2",
   "language": "python",
   "name": "python2"
  },
  "language_info": {
   "codemirror_mode": {
    "name": "ipython",
    "version": 2
   },
   "file_extension": ".py",
   "mimetype": "text/x-python",
   "name": "python",
   "nbconvert_exporter": "python",
   "pygments_lexer": "ipython2",
   "version": "2.7.11"
  }
 },
 "nbformat": 4,
 "nbformat_minor": 0
}
